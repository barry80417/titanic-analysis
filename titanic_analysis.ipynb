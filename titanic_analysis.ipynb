{
  "nbformat": 4,
  "nbformat_minor": 0,
  "metadata": {
    "colab": {
      "name": "titanic-analysis.ipynb",
      "provenance": [],
      "authorship_tag": "ABX9TyMKUG8JbLm/QcQHRhMzEnqS",
      "include_colab_link": true
    },
    "kernelspec": {
      "name": "python3",
      "display_name": "Python 3"
    },
    "language_info": {
      "name": "python"
    }
  },
  "cells": [
    {
      "cell_type": "markdown",
      "metadata": {
        "id": "view-in-github",
        "colab_type": "text"
      },
      "source": [
        "<a href=\"https://colab.research.google.com/github/barry80417/titanic-analysis/blob/main/titanic_analysis.ipynb\" target=\"_parent\"><img src=\"https://colab.research.google.com/assets/colab-badge.svg\" alt=\"Open In Colab\"/></a>"
      ]
    },
    {
      "cell_type": "code",
      "execution_count": 270,
      "metadata": {
        "id": "ZYSb_SuaY3Rf"
      },
      "outputs": [],
      "source": [
        "import pandas as pd\n",
        "import numpy as np\n",
        "import matplotlib.pyplot as plt\n",
        "import seaborn as sns\n",
        "import matplotlib.gridspec as gridspec\n",
        "from sklearn.preprocessing import LabelEncoder\n",
        "labelencoder = LabelEncoder()\n",
        "df_train = pd.read_csv(\"https://raw.githubusercontent.com/agconti/kaggle-titanic/master/data/train.csv\")\n",
        "df_test = pd.read_csv(\"https://raw.githubusercontent.com/agconti/kaggle-titanic/master/data/test.csv\")"
      ]
    },
    {
      "cell_type": "markdown",
      "source": [
        "用github內的資料直接讀進來"
      ],
      "metadata": {
        "id": "vIbWCyv9intq"
      }
    },
    {
      "cell_type": "code",
      "source": [
        "#@title data information\n",
        "df_train.head()\n",
        "df_train.info()"
      ],
      "metadata": {
        "id": "p7zqV46nnTjE",
        "cellView": "form"
      },
      "execution_count": null,
      "outputs": []
    },
    {
      "cell_type": "markdown",
      "source": [
        " Link: https://www.kaggle.com/competitions/titanic/data\n",
        "\n",
        "Survived: Survived (1) or died (0)\n",
        "\n",
        "Pclass: Passenger’s class\n",
        "\n",
        "Name: Passenger’s name\n",
        "\n",
        "Sex: Passenger’s sex\n",
        "\n",
        "Age: Passenger’s age\n",
        "\n",
        "SibSp: define brother,sister,husband,wife...\n",
        "\n",
        "Parch: define mother,father,daughter,son...\n",
        "\n",
        "Ticket: ticket number\n",
        "\n",
        "Fare:ticket fare\n",
        "\n",
        "Cabin:cabin number\n",
        "\n",
        "Embarked:port of embarkation (C=Cherbourg,Q=Queenstown,S=Southampton)"
      ],
      "metadata": {
        "id": "0HvxxNoBGNym"
      }
    },
    {
      "cell_type": "code",
      "source": [
        "#@title train data relation\n",
        "#看訓練資料中是否有所關聯\n",
        "corr = df_train.corr()\n",
        "cmap = sns.diverging_palette(200, 0, as_cmap = True)\n",
        "sns.heatmap(\n",
        "    corr,\n",
        "    cmap=cmap,\n",
        "    square = False,\n",
        "    cbar_kws = {'shrink': .9}, #顏色條大小\n",
        "    ax = plt.subplots(figsize =(12,10))[1],\n",
        "    annot = True,\n",
        "    annot_kws = {'fontsize':12} #字體大小\n",
        ")                             "
      ],
      "metadata": {
        "id": "0r5DA0TPFuO5",
        "cellView": "form"
      },
      "execution_count": null,
      "outputs": []
    },
    {
      "cell_type": "code",
      "source": [
        "#@title survive or not pie plot\n",
        "#kind(圖形類型)autopct小數\n",
        "plt.figure(figsize = (10,5))\n",
        "df_train['Survived'].value_counts().plot(kind = 'pie', colors =['lightcoral','skyblue'], autopct = '%1.2f%%')\n",
        "plt.title('Survival')\n",
        "plt.ylabel('')\n",
        "plt.show()"
      ],
      "metadata": {
        "cellView": "form",
        "id": "yb8gPLsS4CNZ"
      },
      "execution_count": null,
      "outputs": []
    },
    {
      "cell_type": "code",
      "source": [
        "#@title survived data relation\n",
        "#所有生還的人其他的資料是否有相關為看不出關聯\n",
        "sur = (df_train['Survived']==1)\n",
        "df_sur = df_train[sur].drop(['Survived'],axis = 1)\n",
        "corr = df_sur.corr()\n",
        "cmap = sns.diverging_palette(200, 0, as_cmap = True)\n",
        "sns.heatmap(\n",
        "    corr,\n",
        "    cmap=cmap,\n",
        "    square = False,\n",
        "    cbar_kws = {'shrink': .9}, #顏色條大小\n",
        "    ax = plt.subplots(figsize =(12,10))[1],\n",
        "    annot = True,\n",
        "    annot_kws = {'fontsize':12} #字體大小\n",
        ")                             "
      ],
      "metadata": {
        "id": "ZlI_nKGYRRA5",
        "cellView": "form"
      },
      "execution_count": null,
      "outputs": []
    },
    {
      "cell_type": "code",
      "source": [
        "#@title survived data plot\n",
        "selected_cols = ['Sex','Pclass','Embarked','SibSp','Parch']\n",
        "\n",
        "plt.figure( figsize =(10,len(selected_cols)*5))\n",
        "gs = gridspec.GridSpec(len(selected_cols),1)\n",
        "for i, col in enumerate(df_train[selected_cols]):\n",
        "  ax = plt.subplot(gs[i])\n",
        "  sns.countplot(df_train[col], hue = df_train.Survived, palette = ['lightcoral','skyblue'])\n",
        "  ax.set_yticklabels([])\n",
        "  ax.set_ylabel('Counts')\n",
        "  ax.legend(loc=1)#圖例顯示位子\n",
        "  for p in ax.patches:\n",
        "    ax.annotate('{:,}'.format(p.get_height()), (p.get_x(),p.get_height()+1.5))\n",
        "plt.show()"
      ],
      "metadata": {
        "cellView": "form",
        "id": "QhWVu8hqCxTn"
      },
      "execution_count": null,
      "outputs": []
    },
    {
      "cell_type": "code",
      "source": [
        "#@title Data clean def\n",
        "def Data_clean_function(data):\n",
        "  data = data.drop(['Name','Ticket','Cabin'],axis = 1)\n",
        "  data['Sex'] = labelencoder.fit_transform(data['Sex'])\n",
        "  data['Age'] = data['Age'].fillna(data['Age'].median())\n",
        "  data['Embarked'] = data['Embarked'].fillna('S')\n",
        "  # data['Embarked'] = labelencoder.fit_transform(data['Embarked'])\n",
        "  data = pd.get_dummies(data, columns = ['Embarked'])\n",
        "  data['Fare'] = data['Fare'].fillna(data['Fare'].mode()[0])\n",
        "  data['Family_Size'] = data['SibSp'] + data['Parch']+1\n",
        "  return data"
      ],
      "metadata": {
        "id": "C05oTSiYT3RB"
      },
      "execution_count": 271,
      "outputs": []
    },
    {
      "cell_type": "code",
      "source": [
        "def Age_class(Age):\n",
        "  Age['Age_class'] = np.nan\n",
        "  Age.loc[Age.Age<=2,'Age_class'] = 1\n",
        "  Age.loc[(Age.Age>2) & (Age.Age <=5),'Age_class'] = 2  \n",
        "  Age.loc[(Age.Age>5) & (Age.Age <=11),'Age_class'] = 3\n",
        "  Age.loc[(Age.Age>11) & (Age.Age <=18),'Age_class'] = 4\n",
        "  Age.loc[(Age.Age>18) & (Age.Age <=30),'Age_class'] = 5\n",
        "  Age.loc[(Age.Age>30) & (Age.Age <=44),'Age_class'] = 6\n",
        "  Age.loc[(Age.Age>44) & (Age.Age <=60),'Age_class'] = 7\n",
        "  Age.loc[Age.Age >60 ,'Age_class'] = 8    "
      ],
      "metadata": {
        "id": "bNtVZ2T6exSM"
      },
      "execution_count": 272,
      "outputs": []
    },
    {
      "cell_type": "code",
      "source": [
        "df_test = Data_clean_function(df_test)\n",
        "Age_class(df_test)"
      ],
      "metadata": {
        "id": "jlROT1BYVXvz"
      },
      "execution_count": null,
      "outputs": []
    },
    {
      "cell_type": "code",
      "source": [
        "df_train = Data_clean_function(df_train)\n",
        "Age_class(df_train)"
      ],
      "metadata": {
        "id": "Bep0b75gebwP"
      },
      "execution_count": 274,
      "outputs": []
    },
    {
      "cell_type": "code",
      "source": [
        "#@title Family Survival Rate\n",
        "df_train['Family_Size'] = df_train['SibSp'] + df_train['Parch']+1\n",
        "Survival_Rate = df_train[['Family_Size','Survived']].groupby('Family_Size').agg(np.mean)*100\n",
        "Survival_Rate.columns = ['Survival Rate(%)']\n",
        "Survival_Rate.reset_index()"
      ],
      "metadata": {
        "cellView": "form",
        "id": "yXii70JY3tjD"
      },
      "execution_count": null,
      "outputs": []
    },
    {
      "cell_type": "code",
      "source": [
        "#@title Age class survival Rate\n",
        "Survival_Rate = df_train[['Age_class','Survived',]].groupby('Age_class').agg(np.mean)*100\n",
        "Survival_Rate.columns = ['Survival Rate(%)']\n",
        "Survival_Rate.reset_index()"
      ],
      "metadata": {
        "cellView": "form",
        "id": "ylPxaF_H7PiS"
      },
      "execution_count": null,
      "outputs": []
    },
    {
      "cell_type": "markdown",
      "source": [
        "刪除看起來比較沒用的資料'Name','Ticket','Cabin'"
      ],
      "metadata": {
        "id": "FosAP2jIlYKF"
      }
    },
    {
      "cell_type": "markdown",
      "source": [
        "看是否有空值"
      ],
      "metadata": {
        "id": "BAar5u39uZIp"
      }
    },
    {
      "cell_type": "code",
      "source": [
        "#@title test data clean\n",
        "df_train = df_train.drop(['Name','Ticket','Cabin'],axis = 1)\n",
        "df_train['Sex'] = labelencoder.fit_transform(df_train['Sex'])\n",
        "df_train['Age'] = df_train['Age'].fillna(df_train['Age'].mode()[0])\n",
        "df_train['Embarked'] = df_train['Embarked'].fillna('S')\n",
        "df_train['Embarked'] = labelencoder.fit_transform(df_train['Embarked'])\n",
        "df_train = pd.get_dummies(df_train, columns = ['Embarked'])"
      ],
      "metadata": {
        "id": "z5vAp7hkubV5",
        "cellView": "form"
      },
      "execution_count": 167,
      "outputs": []
    },
    {
      "cell_type": "markdown",
      "source": [
        "將Age用眾數填補空值，Embarked用眾數填補空值"
      ],
      "metadata": {
        "id": "uthXizE5vYoL"
      }
    },
    {
      "cell_type": "code",
      "source": [
        "columns_X = set(df_train.columns) - {'Survived'}\n",
        "columns_y = ['Survived']\n",
        "\n",
        "train_X = df_train[columns_X]\n",
        "train_y = df_train[columns_y]\n",
        "\n",
        "from sklearn.linear_model import LogisticRegression\n",
        "from sklearn.model_selection import cross_val_score\n",
        "\n",
        "log = LogisticRegression(random_state=0, max_iter=3000)\n",
        "scores = cross_val_score(log, train_X, train_y.values.ravel(),cv=5,scoring='accuracy')\n",
        "scores"
      ],
      "metadata": {
        "colab": {
          "base_uri": "https://localhost:8080/"
        },
        "id": "ChojNb9kveFX",
        "outputId": "7b05226a-f341-41c2-a358-bd81cce7e4f4"
      },
      "execution_count": 269,
      "outputs": [
        {
          "output_type": "execute_result",
          "data": {
            "text/plain": [
              "array([0.79329609, 0.78651685, 0.78651685, 0.7752809 , 0.8258427 ])"
            ]
          },
          "metadata": {},
          "execution_count": 269
        }
      ]
    },
    {
      "cell_type": "code",
      "source": [
        "columns_X = set(df_train.columns) - {'Survived'}\n",
        "columns_y = ['Survived']\n",
        "\n",
        "train_X = df_train[columns_X]\n",
        "train_y = df_train[columns_y]\n",
        "\n",
        "test_X = df_test[columns_X]"
      ],
      "metadata": {
        "id": "LsxNAaOUhBF5"
      },
      "execution_count": 232,
      "outputs": []
    },
    {
      "cell_type": "code",
      "source": [
        "from sklearn.linear_model import LinearRegression\n",
        "linear = LinearRegression()\n",
        "model = linear.fit(train_X, train_y)\n",
        "\n",
        "# print(linear.coef_) #印出係數\n",
        "# print(linear.intercept_) #印出截距\n",
        "\n",
        "sur_pred = linear.predict(train_X)\n",
        "accuracy = linear.score(train_X, train_y)\n",
        "print(accuracy)"
      ],
      "metadata": {
        "colab": {
          "base_uri": "https://localhost:8080/"
        },
        "id": "8oKe5Xh0EzY-",
        "outputId": "7d342aa6-d0ab-4518-e6c0-0afedd39a450"
      },
      "execution_count": 300,
      "outputs": [
        {
          "output_type": "stream",
          "name": "stdout",
          "text": [
            "0.40124791552542594\n"
          ]
        }
      ]
    },
    {
      "cell_type": "code",
      "source": [
        "from sklearn.ensemble import RandomForestClassifier\n",
        "rf = RandomForestClassifier(n_estimators = 50, max_features='sqrt')\n",
        "model = rf.fit(train_X, train_y)\n",
        "sur_pred = rf.predict(train_X)\n",
        "print(rf.score(train_X, train_y))"
      ],
      "metadata": {
        "colab": {
          "base_uri": "https://localhost:8080/"
        },
        "id": "uG7JFlIdkMgg",
        "outputId": "025679ab-095b-43b2-b8fa-c75cf2a0ac90"
      },
      "execution_count": 302,
      "outputs": [
        {
          "output_type": "stream",
          "name": "stdout",
          "text": [
            "0.9988776655443322\n"
          ]
        },
        {
          "output_type": "stream",
          "name": "stderr",
          "text": [
            "/usr/local/lib/python3.7/dist-packages/ipykernel_launcher.py:3: DataConversionWarning: A column-vector y was passed when a 1d array was expected. Please change the shape of y to (n_samples,), for example using ravel().\n",
            "  This is separate from the ipykernel package so we can avoid doing imports until\n"
          ]
        }
      ]
    },
    {
      "cell_type": "code",
      "source": [
        "from sklearn.ensemble import GradientBoostingClassifier\n",
        "gboost = GradientBoostingClassifier()\n",
        "model = gboost.fit(train_X, train_y)\n",
        "sur_pred = gboost.predict(train_X)\n",
        "print(gboost.score(train_X, train_y))"
      ],
      "metadata": {
        "colab": {
          "base_uri": "https://localhost:8080/"
        },
        "id": "T2oF23oPZRP_",
        "outputId": "c37221e3-fb30-4af6-f40d-3138373f6210"
      },
      "execution_count": 312,
      "outputs": [
        {
          "output_type": "stream",
          "name": "stderr",
          "text": [
            "/usr/local/lib/python3.7/dist-packages/sklearn/ensemble/_gb.py:494: DataConversionWarning: A column-vector y was passed when a 1d array was expected. Please change the shape of y to (n_samples, ), for example using ravel().\n",
            "  y = column_or_1d(y, warn=True)\n"
          ]
        },
        {
          "output_type": "stream",
          "name": "stdout",
          "text": [
            "0.8967452300785634\n"
          ]
        }
      ]
    },
    {
      "cell_type": "code",
      "source": [
        "def compute_score(clf, X, y, scoring='accuracy'):\n",
        "  xval = cross_val_score(clf, X, y, cv = 5,scoring=scoring)\n",
        "  return np.mean(xval)"
      ],
      "metadata": {
        "id": "AaI7578hXcW6"
      },
      "execution_count": 303,
      "outputs": []
    },
    {
      "cell_type": "code",
      "source": [
        "compute_score(model,train_X,train_y)"
      ],
      "metadata": {
        "colab": {
          "base_uri": "https://localhost:8080/"
        },
        "id": "81vnL4XYYeup",
        "outputId": "1bcaf669-51d1-474d-bb47-645239239c72"
      },
      "execution_count": 306,
      "outputs": [
        {
          "output_type": "stream",
          "name": "stderr",
          "text": [
            "/usr/local/lib/python3.7/dist-packages/sklearn/model_selection/_validation.py:680: DataConversionWarning: A column-vector y was passed when a 1d array was expected. Please change the shape of y to (n_samples,), for example using ravel().\n",
            "  estimator.fit(X_train, y_train, **fit_params)\n",
            "/usr/local/lib/python3.7/dist-packages/sklearn/model_selection/_validation.py:680: DataConversionWarning: A column-vector y was passed when a 1d array was expected. Please change the shape of y to (n_samples,), for example using ravel().\n",
            "  estimator.fit(X_train, y_train, **fit_params)\n",
            "/usr/local/lib/python3.7/dist-packages/sklearn/model_selection/_validation.py:680: DataConversionWarning: A column-vector y was passed when a 1d array was expected. Please change the shape of y to (n_samples,), for example using ravel().\n",
            "  estimator.fit(X_train, y_train, **fit_params)\n",
            "/usr/local/lib/python3.7/dist-packages/sklearn/model_selection/_validation.py:680: DataConversionWarning: A column-vector y was passed when a 1d array was expected. Please change the shape of y to (n_samples,), for example using ravel().\n",
            "  estimator.fit(X_train, y_train, **fit_params)\n",
            "/usr/local/lib/python3.7/dist-packages/sklearn/model_selection/_validation.py:680: DataConversionWarning: A column-vector y was passed when a 1d array was expected. Please change the shape of y to (n_samples,), for example using ravel().\n",
            "  estimator.fit(X_train, y_train, **fit_params)\n"
          ]
        },
        {
          "output_type": "execute_result",
          "data": {
            "text/plain": [
              "0.7902391563618104"
            ]
          },
          "metadata": {},
          "execution_count": 306
        }
      ]
    },
    {
      "cell_type": "code",
      "source": [
        ""
      ],
      "metadata": {
        "id": "0e0F1q5XYzk5"
      },
      "execution_count": 305,
      "outputs": []
    }
  ]
}