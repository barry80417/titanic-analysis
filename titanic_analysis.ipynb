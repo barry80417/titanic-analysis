{
  "nbformat": 4,
  "nbformat_minor": 0,
  "metadata": {
    "colab": {
      "name": "titanic-analysis.ipynb",
      "provenance": [],
      "authorship_tag": "ABX9TyPwjn3Dt9QkbcZOVIsA44D5",
      "include_colab_link": true
    },
    "kernelspec": {
      "name": "python3",
      "display_name": "Python 3"
    },
    "language_info": {
      "name": "python"
    }
  },
  "cells": [
    {
      "cell_type": "markdown",
      "metadata": {
        "id": "view-in-github",
        "colab_type": "text"
      },
      "source": [
        "<a href=\"https://colab.research.google.com/github/barry80417/titanic-analysis/blob/main/titanic_analysis.ipynb\" target=\"_parent\"><img src=\"https://colab.research.google.com/assets/colab-badge.svg\" alt=\"Open In Colab\"/></a>"
      ]
    },
    {
      "cell_type": "code",
      "execution_count": 133,
      "metadata": {
        "id": "ZYSb_SuaY3Rf"
      },
      "outputs": [],
      "source": [
        "import pandas as pd\n",
        "import numpy as np\n",
        "import matplotlib.pyplot as plt\n",
        "import seaborn as sns\n",
        "import matplotlib.gridspec as gridspec\n",
        "from sklearn.preprocessing import LabelEncoder\n",
        "labelencoder = LabelEncoder()\n",
        "df_train = pd.read_csv(\"https://raw.githubusercontent.com/agconti/kaggle-titanic/master/data/train.csv\")\n",
        "df_test = pd.read_csv(\"https://raw.githubusercontent.com/agconti/kaggle-titanic/master/data/test.csv\")"
      ]
    },
    {
      "cell_type": "markdown",
      "source": [
        "用github內的資料直接讀進來"
      ],
      "metadata": {
        "id": "vIbWCyv9intq"
      }
    },
    {
      "cell_type": "code",
      "source": [
        "#@title data information\n",
        "df_train.head()\n",
        "df_train.info()"
      ],
      "metadata": {
        "id": "p7zqV46nnTjE",
        "cellView": "form"
      },
      "execution_count": null,
      "outputs": []
    },
    {
      "cell_type": "markdown",
      "source": [
        " Link: https://www.kaggle.com/competitions/titanic/data\n",
        "\n",
        "Survived: Survived (1) or died (0)\n",
        "\n",
        "Pclass: Passenger’s class\n",
        "\n",
        "Name: Passenger’s name\n",
        "\n",
        "Sex: Passenger’s sex\n",
        "\n",
        "Age: Passenger’s age\n",
        "\n",
        "SibSp: define brother,sister,husband,wife...\n",
        "\n",
        "Parch: define mother,father,daughter,son...\n",
        "\n",
        "Ticket: ticket number\n",
        "\n",
        "Fare:ticket fare\n",
        "\n",
        "Cabin:cabin number\n",
        "\n",
        "Embarked:port of embarkation (C=Cherbourg,Q=Queenstown,S=Southampton)"
      ],
      "metadata": {
        "id": "0HvxxNoBGNym"
      }
    },
    {
      "cell_type": "code",
      "source": [
        "#@title train data relation\n",
        "#看訓練資料中是否有所關聯\n",
        "corr = df_train.corr()\n",
        "cmap = sns.diverging_palette(200, 0, as_cmap = True)\n",
        "sns.heatmap(\n",
        "    corr,\n",
        "    cmap=cmap,\n",
        "    square = False,\n",
        "    cbar_kws = {'shrink': .9}, #顏色條大小\n",
        "    ax = plt.subplots(figsize =(12,10))[1],\n",
        "    annot = True,\n",
        "    annot_kws = {'fontsize':12} #字體大小\n",
        ")                             "
      ],
      "metadata": {
        "id": "0r5DA0TPFuO5",
        "cellView": "form"
      },
      "execution_count": null,
      "outputs": []
    },
    {
      "cell_type": "code",
      "source": [
        "#@title survive or not pie plot\n",
        "#kind(圖形類型)autopct小數\n",
        "plt.figure(figsize = (10,5))\n",
        "df_train['Survived'].value_counts().plot(kind = 'pie', colors =['lightcoral','skyblue'], autopct = '%1.2f%%')\n",
        "plt.title('Survival')\n",
        "plt.ylabel('')\n",
        "plt.show()"
      ],
      "metadata": {
        "cellView": "form",
        "id": "yb8gPLsS4CNZ"
      },
      "execution_count": null,
      "outputs": []
    },
    {
      "cell_type": "code",
      "source": [
        "#@title survived data relation\n",
        "#所有生還的人其他的資料是否有相關為看不出關聯\n",
        "sur = (df_train['Survived']==1)\n",
        "df_sur = df_train[sur].drop(['Survived'],axis = 1)\n",
        "corr = df_sur.corr()\n",
        "cmap = sns.diverging_palette(200, 0, as_cmap = True)\n",
        "sns.heatmap(\n",
        "    corr,\n",
        "    cmap=cmap,\n",
        "    square = False,\n",
        "    cbar_kws = {'shrink': .9}, #顏色條大小\n",
        "    ax = plt.subplots(figsize =(12,10))[1],\n",
        "    annot = True,\n",
        "    annot_kws = {'fontsize':12} #字體大小\n",
        ")                             "
      ],
      "metadata": {
        "id": "ZlI_nKGYRRA5",
        "cellView": "form"
      },
      "execution_count": null,
      "outputs": []
    },
    {
      "cell_type": "code",
      "source": [
        "#@title survived data plot\n",
        "selected_cols = ['Sex','Pclass','Embarked','SibSp','Parch']\n",
        "\n",
        "plt.figure( figsize =(10,len(selected_cols)*5))\n",
        "gs = gridspec.GridSpec(len(selected_cols),1)\n",
        "for i, col in enumerate(df_train[selected_cols]):\n",
        "  ax = plt.subplot(gs[i])\n",
        "  sns.countplot(df_train[col], hue = df_train.Survived, palette = ['lightcoral','skyblue'])\n",
        "  ax.set_yticklabels([])\n",
        "  ax.set_ylabel('Counts')\n",
        "  ax.legend(loc=1)#圖例顯示位子\n",
        "  for p in ax.patches:\n",
        "    ax.annotate('{:,}'.format(p.get_height()), (p.get_x(),p.get_height()+1.5))\n",
        "plt.show()"
      ],
      "metadata": {
        "cellView": "form",
        "id": "QhWVu8hqCxTn"
      },
      "execution_count": null,
      "outputs": []
    },
    {
      "cell_type": "code",
      "source": [
        "#@title Data clean def\n",
        "def Data_clean_function(data):\n",
        "  # data = data.drop(['Name','Ticket','Cabin'],axis = 1)\n",
        "  data['Sex'] = labelencoder.fit_transform(data['Sex'])\n",
        "  data['Age'] = data['Age'].fillna(data['Age'].mode()[0])\n",
        "  data['Embarked'] = data['Embarked'].fillna(data['Embarked'].mode())\n",
        "  data['Embarked'] = labelencoder.fit_transform(data['Embarked'])\n",
        "  # data = pd.get_dummies(data, columns = ['Embarked'])\n",
        "  data['Family_Size'] = data['SibSp'] + data['Parch']+1"
      ],
      "metadata": {
        "id": "C05oTSiYT3RB"
      },
      "execution_count": 127,
      "outputs": []
    },
    {
      "cell_type": "code",
      "source": [
        "def Age_class(Age):\n",
        "  Age['Age_class'] = np.nan\n",
        "  Age.loc[Age.Age<=2,'Age_class'] = 1\n",
        "  Age.loc[(Age.Age>2) & (Age.Age <=5),'Age_class'] = 2  \n",
        "  Age.loc[(Age.Age>5) & (Age.Age <=11),'Age_class'] = 3\n",
        "  Age.loc[(Age.Age>11) & (Age.Age <=18),'Age_class'] = 4\n",
        "  Age.loc[(Age.Age>18) & (Age.Age <=30),'Age_class'] = 5\n",
        "  Age.loc[(Age.Age>30) & (Age.Age <=44),'Age_class'] = 6\n",
        "  Age.loc[(Age.Age>44) & (Age.Age <=60),'Age_class'] = 7\n",
        "  Age.loc[Age.Age >60 ,'Age_class'] = 8    "
      ],
      "metadata": {
        "id": "bNtVZ2T6exSM"
      },
      "execution_count": 131,
      "outputs": []
    },
    {
      "cell_type": "code",
      "source": [
        "Data_clean_function(df_test)\n",
        "Age_class(df_test)\n",
        "df_test = df_test.drop(['Name','Ticket','Cabin'],axis = 1)\n",
        "df_test = pd.get_dummies(df_test, columns = ['Embarked'])"
      ],
      "metadata": {
        "id": "jlROT1BYVXvz"
      },
      "execution_count": null,
      "outputs": []
    },
    {
      "cell_type": "code",
      "source": [
        "Data_clean_function(df_train)\n",
        "Age_class(df_train)\n",
        "df_train = df_train.drop(['Name','Ticket','Cabin'],axis = 1)\n",
        "df_train = pd.get_dummies(df_train, columns = ['Embarked'])"
      ],
      "metadata": {
        "id": "Bep0b75gebwP"
      },
      "execution_count": 136,
      "outputs": []
    },
    {
      "cell_type": "code",
      "source": [
        "df_train['Family_Size'] = df_train['SibSp'] + df_train['Parch']+1\n",
        "Survival_Rate = df_train[['Family_Size','Survived']].groupby('Family_Size').agg(np.mean)*100\n",
        "Survival_Rate.columns = ['Survival Rate(%)']\n",
        "Survival_Rate.reset_index()"
      ],
      "metadata": {
        "id": "yXii70JY3tjD"
      },
      "execution_count": null,
      "outputs": []
    },
    {
      "cell_type": "code",
      "source": [
        "Survival_Rate = df_train[['Age_class','Survived',]].groupby('Age_class').agg(np.mean)*100\n",
        "Survival_Rate.columns = ['Survival Rate(%)']\n",
        "Survival_Rate.reset_index()"
      ],
      "metadata": {
        "id": "ylPxaF_H7PiS"
      },
      "execution_count": null,
      "outputs": []
    },
    {
      "cell_type": "markdown",
      "source": [
        "刪除看起來比較沒用的資料'Name','Ticket','Cabin'"
      ],
      "metadata": {
        "id": "FosAP2jIlYKF"
      }
    },
    {
      "cell_type": "code",
      "source": [
        "df_train = df_train.drop(['Name','Ticket','Cabin'],axis = 1)"
      ],
      "metadata": {
        "id": "v0qyCFtEjE0h"
      },
      "execution_count": 52,
      "outputs": []
    },
    {
      "cell_type": "code",
      "source": [
        "df_train['Sex'] = labelencoder.fit_transform(df_train['Sex'])"
      ],
      "metadata": {
        "id": "QlviX377k24l"
      },
      "execution_count": 56,
      "outputs": []
    },
    {
      "cell_type": "markdown",
      "source": [
        "看是否有空值"
      ],
      "metadata": {
        "id": "BAar5u39uZIp"
      }
    },
    {
      "cell_type": "code",
      "source": [
        "df_train['Age'] = df_train['Age'].fillna(df_train['Age'].mode()[0])\n",
        "df_train['Embarked'] = df_train['Embarked'].fillna(df_train['Embarked'].mode())\n",
        "df_train['Embarked'] = labelencoder.fit_transform(df_train['Embarked'])\n",
        "df_train = pd.get_dummies(df_train, columns = ['Embarked'])"
      ],
      "metadata": {
        "id": "z5vAp7hkubV5"
      },
      "execution_count": 118,
      "outputs": []
    },
    {
      "cell_type": "code",
      "source": [
        "df_train"
      ],
      "metadata": {
        "colab": {
          "base_uri": "https://localhost:8080/",
          "height": 424
        },
        "id": "wDj-bJNrb-GR",
        "outputId": "40845fcb-f36c-43d9-a985-66b24d2ae444"
      },
      "execution_count": 119,
      "outputs": [
        {
          "output_type": "execute_result",
          "data": {
            "text/plain": [
              "     PassengerId  Survived  Pclass  \\\n",
              "0              1         0       3   \n",
              "1              2         1       1   \n",
              "2              3         1       3   \n",
              "3              4         1       1   \n",
              "4              5         0       3   \n",
              "..           ...       ...     ...   \n",
              "886          887         0       2   \n",
              "887          888         1       1   \n",
              "888          889         0       3   \n",
              "889          890         1       1   \n",
              "890          891         0       3   \n",
              "\n",
              "                                                  Name     Sex   Age  SibSp  \\\n",
              "0                              Braund, Mr. Owen Harris    male  22.0      1   \n",
              "1    Cumings, Mrs. John Bradley (Florence Briggs Th...  female  38.0      1   \n",
              "2                               Heikkinen, Miss. Laina  female  26.0      0   \n",
              "3         Futrelle, Mrs. Jacques Heath (Lily May Peel)  female  35.0      1   \n",
              "4                             Allen, Mr. William Henry    male  35.0      0   \n",
              "..                                                 ...     ...   ...    ...   \n",
              "886                              Montvila, Rev. Juozas    male  27.0      0   \n",
              "887                       Graham, Miss. Margaret Edith  female  19.0      0   \n",
              "888           Johnston, Miss. Catherine Helen \"Carrie\"  female  24.0      1   \n",
              "889                              Behr, Mr. Karl Howell    male  26.0      0   \n",
              "890                                Dooley, Mr. Patrick    male  32.0      0   \n",
              "\n",
              "     Parch            Ticket     Fare Cabin  Embarked  \n",
              "0        0         A/5 21171   7.2500   NaN         2  \n",
              "1        0          PC 17599  71.2833   C85         0  \n",
              "2        0  STON/O2. 3101282   7.9250   NaN         2  \n",
              "3        0            113803  53.1000  C123         2  \n",
              "4        0            373450   8.0500   NaN         2  \n",
              "..     ...               ...      ...   ...       ...  \n",
              "886      0            211536  13.0000   NaN         2  \n",
              "887      0            112053  30.0000   B42         2  \n",
              "888      2        W./C. 6607  23.4500   NaN         2  \n",
              "889      0            111369  30.0000  C148         0  \n",
              "890      0            370376   7.7500   NaN         1  \n",
              "\n",
              "[891 rows x 12 columns]"
            ],
            "text/html": [
              "\n",
              "  <div id=\"df-7b8bf750-e8df-449d-98e6-24d290ccb68e\">\n",
              "    <div class=\"colab-df-container\">\n",
              "      <div>\n",
              "<style scoped>\n",
              "    .dataframe tbody tr th:only-of-type {\n",
              "        vertical-align: middle;\n",
              "    }\n",
              "\n",
              "    .dataframe tbody tr th {\n",
              "        vertical-align: top;\n",
              "    }\n",
              "\n",
              "    .dataframe thead th {\n",
              "        text-align: right;\n",
              "    }\n",
              "</style>\n",
              "<table border=\"1\" class=\"dataframe\">\n",
              "  <thead>\n",
              "    <tr style=\"text-align: right;\">\n",
              "      <th></th>\n",
              "      <th>PassengerId</th>\n",
              "      <th>Survived</th>\n",
              "      <th>Pclass</th>\n",
              "      <th>Name</th>\n",
              "      <th>Sex</th>\n",
              "      <th>Age</th>\n",
              "      <th>SibSp</th>\n",
              "      <th>Parch</th>\n",
              "      <th>Ticket</th>\n",
              "      <th>Fare</th>\n",
              "      <th>Cabin</th>\n",
              "      <th>Embarked</th>\n",
              "    </tr>\n",
              "  </thead>\n",
              "  <tbody>\n",
              "    <tr>\n",
              "      <th>0</th>\n",
              "      <td>1</td>\n",
              "      <td>0</td>\n",
              "      <td>3</td>\n",
              "      <td>Braund, Mr. Owen Harris</td>\n",
              "      <td>male</td>\n",
              "      <td>22.0</td>\n",
              "      <td>1</td>\n",
              "      <td>0</td>\n",
              "      <td>A/5 21171</td>\n",
              "      <td>7.2500</td>\n",
              "      <td>NaN</td>\n",
              "      <td>2</td>\n",
              "    </tr>\n",
              "    <tr>\n",
              "      <th>1</th>\n",
              "      <td>2</td>\n",
              "      <td>1</td>\n",
              "      <td>1</td>\n",
              "      <td>Cumings, Mrs. John Bradley (Florence Briggs Th...</td>\n",
              "      <td>female</td>\n",
              "      <td>38.0</td>\n",
              "      <td>1</td>\n",
              "      <td>0</td>\n",
              "      <td>PC 17599</td>\n",
              "      <td>71.2833</td>\n",
              "      <td>C85</td>\n",
              "      <td>0</td>\n",
              "    </tr>\n",
              "    <tr>\n",
              "      <th>2</th>\n",
              "      <td>3</td>\n",
              "      <td>1</td>\n",
              "      <td>3</td>\n",
              "      <td>Heikkinen, Miss. Laina</td>\n",
              "      <td>female</td>\n",
              "      <td>26.0</td>\n",
              "      <td>0</td>\n",
              "      <td>0</td>\n",
              "      <td>STON/O2. 3101282</td>\n",
              "      <td>7.9250</td>\n",
              "      <td>NaN</td>\n",
              "      <td>2</td>\n",
              "    </tr>\n",
              "    <tr>\n",
              "      <th>3</th>\n",
              "      <td>4</td>\n",
              "      <td>1</td>\n",
              "      <td>1</td>\n",
              "      <td>Futrelle, Mrs. Jacques Heath (Lily May Peel)</td>\n",
              "      <td>female</td>\n",
              "      <td>35.0</td>\n",
              "      <td>1</td>\n",
              "      <td>0</td>\n",
              "      <td>113803</td>\n",
              "      <td>53.1000</td>\n",
              "      <td>C123</td>\n",
              "      <td>2</td>\n",
              "    </tr>\n",
              "    <tr>\n",
              "      <th>4</th>\n",
              "      <td>5</td>\n",
              "      <td>0</td>\n",
              "      <td>3</td>\n",
              "      <td>Allen, Mr. William Henry</td>\n",
              "      <td>male</td>\n",
              "      <td>35.0</td>\n",
              "      <td>0</td>\n",
              "      <td>0</td>\n",
              "      <td>373450</td>\n",
              "      <td>8.0500</td>\n",
              "      <td>NaN</td>\n",
              "      <td>2</td>\n",
              "    </tr>\n",
              "    <tr>\n",
              "      <th>...</th>\n",
              "      <td>...</td>\n",
              "      <td>...</td>\n",
              "      <td>...</td>\n",
              "      <td>...</td>\n",
              "      <td>...</td>\n",
              "      <td>...</td>\n",
              "      <td>...</td>\n",
              "      <td>...</td>\n",
              "      <td>...</td>\n",
              "      <td>...</td>\n",
              "      <td>...</td>\n",
              "      <td>...</td>\n",
              "    </tr>\n",
              "    <tr>\n",
              "      <th>886</th>\n",
              "      <td>887</td>\n",
              "      <td>0</td>\n",
              "      <td>2</td>\n",
              "      <td>Montvila, Rev. Juozas</td>\n",
              "      <td>male</td>\n",
              "      <td>27.0</td>\n",
              "      <td>0</td>\n",
              "      <td>0</td>\n",
              "      <td>211536</td>\n",
              "      <td>13.0000</td>\n",
              "      <td>NaN</td>\n",
              "      <td>2</td>\n",
              "    </tr>\n",
              "    <tr>\n",
              "      <th>887</th>\n",
              "      <td>888</td>\n",
              "      <td>1</td>\n",
              "      <td>1</td>\n",
              "      <td>Graham, Miss. Margaret Edith</td>\n",
              "      <td>female</td>\n",
              "      <td>19.0</td>\n",
              "      <td>0</td>\n",
              "      <td>0</td>\n",
              "      <td>112053</td>\n",
              "      <td>30.0000</td>\n",
              "      <td>B42</td>\n",
              "      <td>2</td>\n",
              "    </tr>\n",
              "    <tr>\n",
              "      <th>888</th>\n",
              "      <td>889</td>\n",
              "      <td>0</td>\n",
              "      <td>3</td>\n",
              "      <td>Johnston, Miss. Catherine Helen \"Carrie\"</td>\n",
              "      <td>female</td>\n",
              "      <td>24.0</td>\n",
              "      <td>1</td>\n",
              "      <td>2</td>\n",
              "      <td>W./C. 6607</td>\n",
              "      <td>23.4500</td>\n",
              "      <td>NaN</td>\n",
              "      <td>2</td>\n",
              "    </tr>\n",
              "    <tr>\n",
              "      <th>889</th>\n",
              "      <td>890</td>\n",
              "      <td>1</td>\n",
              "      <td>1</td>\n",
              "      <td>Behr, Mr. Karl Howell</td>\n",
              "      <td>male</td>\n",
              "      <td>26.0</td>\n",
              "      <td>0</td>\n",
              "      <td>0</td>\n",
              "      <td>111369</td>\n",
              "      <td>30.0000</td>\n",
              "      <td>C148</td>\n",
              "      <td>0</td>\n",
              "    </tr>\n",
              "    <tr>\n",
              "      <th>890</th>\n",
              "      <td>891</td>\n",
              "      <td>0</td>\n",
              "      <td>3</td>\n",
              "      <td>Dooley, Mr. Patrick</td>\n",
              "      <td>male</td>\n",
              "      <td>32.0</td>\n",
              "      <td>0</td>\n",
              "      <td>0</td>\n",
              "      <td>370376</td>\n",
              "      <td>7.7500</td>\n",
              "      <td>NaN</td>\n",
              "      <td>1</td>\n",
              "    </tr>\n",
              "  </tbody>\n",
              "</table>\n",
              "<p>891 rows × 12 columns</p>\n",
              "</div>\n",
              "      <button class=\"colab-df-convert\" onclick=\"convertToInteractive('df-7b8bf750-e8df-449d-98e6-24d290ccb68e')\"\n",
              "              title=\"Convert this dataframe to an interactive table.\"\n",
              "              style=\"display:none;\">\n",
              "        \n",
              "  <svg xmlns=\"http://www.w3.org/2000/svg\" height=\"24px\"viewBox=\"0 0 24 24\"\n",
              "       width=\"24px\">\n",
              "    <path d=\"M0 0h24v24H0V0z\" fill=\"none\"/>\n",
              "    <path d=\"M18.56 5.44l.94 2.06.94-2.06 2.06-.94-2.06-.94-.94-2.06-.94 2.06-2.06.94zm-11 1L8.5 8.5l.94-2.06 2.06-.94-2.06-.94L8.5 2.5l-.94 2.06-2.06.94zm10 10l.94 2.06.94-2.06 2.06-.94-2.06-.94-.94-2.06-.94 2.06-2.06.94z\"/><path d=\"M17.41 7.96l-1.37-1.37c-.4-.4-.92-.59-1.43-.59-.52 0-1.04.2-1.43.59L10.3 9.45l-7.72 7.72c-.78.78-.78 2.05 0 2.83L4 21.41c.39.39.9.59 1.41.59.51 0 1.02-.2 1.41-.59l7.78-7.78 2.81-2.81c.8-.78.8-2.07 0-2.86zM5.41 20L4 18.59l7.72-7.72 1.47 1.35L5.41 20z\"/>\n",
              "  </svg>\n",
              "      </button>\n",
              "      \n",
              "  <style>\n",
              "    .colab-df-container {\n",
              "      display:flex;\n",
              "      flex-wrap:wrap;\n",
              "      gap: 12px;\n",
              "    }\n",
              "\n",
              "    .colab-df-convert {\n",
              "      background-color: #E8F0FE;\n",
              "      border: none;\n",
              "      border-radius: 50%;\n",
              "      cursor: pointer;\n",
              "      display: none;\n",
              "      fill: #1967D2;\n",
              "      height: 32px;\n",
              "      padding: 0 0 0 0;\n",
              "      width: 32px;\n",
              "    }\n",
              "\n",
              "    .colab-df-convert:hover {\n",
              "      background-color: #E2EBFA;\n",
              "      box-shadow: 0px 1px 2px rgba(60, 64, 67, 0.3), 0px 1px 3px 1px rgba(60, 64, 67, 0.15);\n",
              "      fill: #174EA6;\n",
              "    }\n",
              "\n",
              "    [theme=dark] .colab-df-convert {\n",
              "      background-color: #3B4455;\n",
              "      fill: #D2E3FC;\n",
              "    }\n",
              "\n",
              "    [theme=dark] .colab-df-convert:hover {\n",
              "      background-color: #434B5C;\n",
              "      box-shadow: 0px 1px 3px 1px rgba(0, 0, 0, 0.15);\n",
              "      filter: drop-shadow(0px 1px 2px rgba(0, 0, 0, 0.3));\n",
              "      fill: #FFFFFF;\n",
              "    }\n",
              "  </style>\n",
              "\n",
              "      <script>\n",
              "        const buttonEl =\n",
              "          document.querySelector('#df-7b8bf750-e8df-449d-98e6-24d290ccb68e button.colab-df-convert');\n",
              "        buttonEl.style.display =\n",
              "          google.colab.kernel.accessAllowed ? 'block' : 'none';\n",
              "\n",
              "        async function convertToInteractive(key) {\n",
              "          const element = document.querySelector('#df-7b8bf750-e8df-449d-98e6-24d290ccb68e');\n",
              "          const dataTable =\n",
              "            await google.colab.kernel.invokeFunction('convertToInteractive',\n",
              "                                                     [key], {});\n",
              "          if (!dataTable) return;\n",
              "\n",
              "          const docLinkHtml = 'Like what you see? Visit the ' +\n",
              "            '<a target=\"_blank\" href=https://colab.research.google.com/notebooks/data_table.ipynb>data table notebook</a>'\n",
              "            + ' to learn more about interactive tables.';\n",
              "          element.innerHTML = '';\n",
              "          dataTable['output_type'] = 'display_data';\n",
              "          await google.colab.output.renderOutput(dataTable, element);\n",
              "          const docLink = document.createElement('div');\n",
              "          docLink.innerHTML = docLinkHtml;\n",
              "          element.appendChild(docLink);\n",
              "        }\n",
              "      </script>\n",
              "    </div>\n",
              "  </div>\n",
              "  "
            ]
          },
          "metadata": {},
          "execution_count": 119
        }
      ]
    },
    {
      "cell_type": "markdown",
      "source": [
        "將Age用眾數填補空值，Embarked用眾數填補空值"
      ],
      "metadata": {
        "id": "uthXizE5vYoL"
      }
    },
    {
      "cell_type": "code",
      "source": [
        "columns_X = set(df_train.columns) - {'Survived'}\n",
        "columns_y = ['Survived']\n",
        "\n",
        "train_X = df_train[columns_X]\n",
        "train_y = df_train[columns_y]\n",
        "\n",
        "from sklearn.linear_model import LogisticRegression\n",
        "from sklearn.model_selection import cross_val_score\n",
        "\n",
        "log = LogisticRegression(random_state=0, max_iter=3000)\n",
        "scores = cross_val_score(log, train_X, train_y.values.ravel(),cv=5,scoring='accuracy')\n",
        "scores"
      ],
      "metadata": {
        "colab": {
          "base_uri": "https://localhost:8080/"
        },
        "id": "ChojNb9kveFX",
        "outputId": "85a94059-00e2-4831-e73f-aec4c887e798"
      },
      "execution_count": 137,
      "outputs": [
        {
          "output_type": "execute_result",
          "data": {
            "text/plain": [
              "array([0.79329609, 0.78651685, 0.78651685, 0.7752809 , 0.8258427 ])"
            ]
          },
          "metadata": {},
          "execution_count": 137
        }
      ]
    },
    {
      "cell_type": "code",
      "source": [
        ""
      ],
      "metadata": {
        "id": "8oKe5Xh0EzY-"
      },
      "execution_count": null,
      "outputs": []
    },
    {
      "cell_type": "code",
      "source": [
        ""
      ],
      "metadata": {
        "id": "dTAMNveuZ9qQ"
      },
      "execution_count": null,
      "outputs": []
    }
  ]
}