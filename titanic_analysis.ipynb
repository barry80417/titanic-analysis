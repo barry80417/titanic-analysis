{
  "nbformat": 4,
  "nbformat_minor": 0,
  "metadata": {
    "colab": {
      "name": "titanic-analysis.ipynb",
      "provenance": [],
      "authorship_tag": "ABX9TyNiYeG3UxxTngOfkbJ86QDV",
      "include_colab_link": true
    },
    "kernelspec": {
      "name": "python3",
      "display_name": "Python 3"
    },
    "language_info": {
      "name": "python"
    }
  },
  "cells": [
    {
      "cell_type": "markdown",
      "metadata": {
        "id": "view-in-github",
        "colab_type": "text"
      },
      "source": [
        "<a href=\"https://colab.research.google.com/github/barry80417/titanic-analysis/blob/main/titanic_analysis.ipynb\" target=\"_parent\"><img src=\"https://colab.research.google.com/assets/colab-badge.svg\" alt=\"Open In Colab\"/></a>"
      ]
    },
    {
      "cell_type": "code",
      "execution_count": 264,
      "metadata": {
        "id": "ZYSb_SuaY3Rf"
      },
      "outputs": [],
      "source": [
        "import pandas as pd\n",
        "import numpy as np\n",
        "import matplotlib.pyplot as plt\n",
        "import seaborn as sns\n",
        "import matplotlib.gridspec as gridspec\n",
        "from sklearn.preprocessing import LabelEncoder\n",
        "labelencoder = LabelEncoder()\n",
        "df_train = pd.read_csv(\"https://raw.githubusercontent.com/agconti/kaggle-titanic/master/data/train.csv\")\n",
        "df_test = pd.read_csv(\"https://raw.githubusercontent.com/agconti/kaggle-titanic/master/data/test.csv\")"
      ]
    },
    {
      "cell_type": "markdown",
      "source": [
        "用github內的資料直接讀進來"
      ],
      "metadata": {
        "id": "vIbWCyv9intq"
      }
    },
    {
      "cell_type": "code",
      "source": [
        "#@title data information\n",
        "df_train.head()\n",
        "df_train.info()"
      ],
      "metadata": {
        "id": "p7zqV46nnTjE",
        "cellView": "form"
      },
      "execution_count": null,
      "outputs": []
    },
    {
      "cell_type": "markdown",
      "source": [
        " Link: https://www.kaggle.com/competitions/titanic/data\n",
        "\n",
        "Survived: Survived (1) or died (0)\n",
        "\n",
        "Pclass: Passenger’s class\n",
        "\n",
        "Name: Passenger’s name\n",
        "\n",
        "Sex: Passenger’s sex\n",
        "\n",
        "Age: Passenger’s age\n",
        "\n",
        "SibSp: define brother,sister,husband,wife...\n",
        "\n",
        "Parch: define mother,father,daughter,son...\n",
        "\n",
        "Ticket: ticket number\n",
        "\n",
        "Fare:ticket fare\n",
        "\n",
        "Cabin:cabin number\n",
        "\n",
        "Embarked:port of embarkation (C=Cherbourg,Q=Queenstown,S=Southampton)"
      ],
      "metadata": {
        "id": "0HvxxNoBGNym"
      }
    },
    {
      "cell_type": "code",
      "source": [
        "#@title train data relation\n",
        "#看訓練資料中是否有所關聯\n",
        "corr = df_train.corr()\n",
        "cmap = sns.diverging_palette(200, 0, as_cmap = True)\n",
        "sns.heatmap(\n",
        "    corr,\n",
        "    cmap=cmap,\n",
        "    square = False,\n",
        "    cbar_kws = {'shrink': .9}, #顏色條大小\n",
        "    ax = plt.subplots(figsize =(12,10))[1],\n",
        "    annot = True,\n",
        "    annot_kws = {'fontsize':12} #字體大小\n",
        ")                             "
      ],
      "metadata": {
        "id": "0r5DA0TPFuO5",
        "cellView": "form"
      },
      "execution_count": null,
      "outputs": []
    },
    {
      "cell_type": "code",
      "source": [
        "#@title survive or not pie plot\n",
        "#kind(圖形類型)autopct小數\n",
        "plt.figure(figsize = (10,5))\n",
        "df_train['Survived'].value_counts().plot(kind = 'pie', colors =['lightcoral','skyblue'], autopct = '%1.2f%%')\n",
        "plt.title('Survival')\n",
        "plt.ylabel('')\n",
        "plt.show()"
      ],
      "metadata": {
        "cellView": "form",
        "id": "yb8gPLsS4CNZ"
      },
      "execution_count": null,
      "outputs": []
    },
    {
      "cell_type": "code",
      "source": [
        "#@title survived data relation\n",
        "#所有生還的人其他的資料是否有相關為看不出關聯\n",
        "sur = (df_train['Survived']==1)\n",
        "df_sur = df_train[sur].drop(['Survived'],axis = 1)\n",
        "corr = df_sur.corr()\n",
        "cmap = sns.diverging_palette(200, 0, as_cmap = True)\n",
        "sns.heatmap(\n",
        "    corr,\n",
        "    cmap=cmap,\n",
        "    square = False,\n",
        "    cbar_kws = {'shrink': .9}, #顏色條大小\n",
        "    ax = plt.subplots(figsize =(12,10))[1],\n",
        "    annot = True,\n",
        "    annot_kws = {'fontsize':12} #字體大小\n",
        ")                             "
      ],
      "metadata": {
        "id": "ZlI_nKGYRRA5",
        "cellView": "form"
      },
      "execution_count": null,
      "outputs": []
    },
    {
      "cell_type": "code",
      "source": [
        "#@title survived data plot\n",
        "selected_cols = ['Sex','Pclass','Embarked','SibSp','Parch']\n",
        "\n",
        "plt.figure( figsize =(10,len(selected_cols)*5))\n",
        "gs = gridspec.GridSpec(len(selected_cols),1)\n",
        "for i, col in enumerate(df_train[selected_cols]):\n",
        "  ax = plt.subplot(gs[i])\n",
        "  sns.countplot(df_train[col], hue = df_train.Survived, palette = ['lightcoral','skyblue'])\n",
        "  ax.set_yticklabels([])\n",
        "  ax.set_ylabel('Counts')\n",
        "  ax.legend(loc=1)#圖例顯示位子\n",
        "  for p in ax.patches:\n",
        "    ax.annotate('{:,}'.format(p.get_height()), (p.get_x(),p.get_height()+1.5))\n",
        "plt.show()"
      ],
      "metadata": {
        "cellView": "form",
        "id": "QhWVu8hqCxTn"
      },
      "execution_count": null,
      "outputs": []
    },
    {
      "cell_type": "code",
      "source": [
        "#@title Data clean def\n",
        "def Data_clean_function(data):\n",
        "  data = data.drop(['Name','Ticket','Cabin'],axis = 1)\n",
        "  data['Sex'] = labelencoder.fit_transform(data['Sex'])\n",
        "  data['Age'] = data['Age'].fillna(data['Age'].median())\n",
        "  data['Embarked'] = data['Embarked'].fillna('S')\n",
        "  data['Embarked'] = labelencoder.fit_transform(data['Embarked'])\n",
        "  data = pd.get_dummies(data, columns = ['Embarked'])\n",
        "  data['Fare'] = data['Fare'].fillna(data['Fare'].mode()[0])\n",
        "  data['Family_Size'] = data['SibSp'] + data['Parch']+1\n",
        "  return data"
      ],
      "metadata": {
        "id": "C05oTSiYT3RB"
      },
      "execution_count": 265,
      "outputs": []
    },
    {
      "cell_type": "code",
      "source": [
        "def Age_class(Age):\n",
        "  Age['Age_class'] = np.nan\n",
        "  Age.loc[Age.Age<=2,'Age_class'] = 1\n",
        "  Age.loc[(Age.Age>2) & (Age.Age <=5),'Age_class'] = 2  \n",
        "  Age.loc[(Age.Age>5) & (Age.Age <=11),'Age_class'] = 3\n",
        "  Age.loc[(Age.Age>11) & (Age.Age <=18),'Age_class'] = 4\n",
        "  Age.loc[(Age.Age>18) & (Age.Age <=30),'Age_class'] = 5\n",
        "  Age.loc[(Age.Age>30) & (Age.Age <=44),'Age_class'] = 6\n",
        "  Age.loc[(Age.Age>44) & (Age.Age <=60),'Age_class'] = 7\n",
        "  Age.loc[Age.Age >60 ,'Age_class'] = 8    "
      ],
      "metadata": {
        "id": "bNtVZ2T6exSM"
      },
      "execution_count": 266,
      "outputs": []
    },
    {
      "cell_type": "code",
      "source": [
        "df_test = Data_clean_function(df_test)\n",
        "Age_class(df_test)"
      ],
      "metadata": {
        "id": "jlROT1BYVXvz"
      },
      "execution_count": 267,
      "outputs": []
    },
    {
      "cell_type": "code",
      "source": [
        "df_train = Data_clean_function(df_train)\n",
        "Age_class(df_train)"
      ],
      "metadata": {
        "id": "Bep0b75gebwP"
      },
      "execution_count": 268,
      "outputs": []
    },
    {
      "cell_type": "code",
      "source": [
        "df_train['Family_Size'] = df_train['SibSp'] + df_train['Parch']+1\n",
        "Survival_Rate = df_train[['Family_Size','Survived']].groupby('Family_Size').agg(np.mean)*100\n",
        "Survival_Rate.columns = ['Survival Rate(%)']\n",
        "Survival_Rate.reset_index()"
      ],
      "metadata": {
        "id": "yXii70JY3tjD"
      },
      "execution_count": null,
      "outputs": []
    },
    {
      "cell_type": "code",
      "source": [
        "Survival_Rate = df_train[['Age_class','Survived',]].groupby('Age_class').agg(np.mean)*100\n",
        "Survival_Rate.columns = ['Survival Rate(%)']\n",
        "Survival_Rate.reset_index()"
      ],
      "metadata": {
        "id": "ylPxaF_H7PiS"
      },
      "execution_count": null,
      "outputs": []
    },
    {
      "cell_type": "markdown",
      "source": [
        "刪除看起來比較沒用的資料'Name','Ticket','Cabin'"
      ],
      "metadata": {
        "id": "FosAP2jIlYKF"
      }
    },
    {
      "cell_type": "code",
      "source": [
        "df_train = df_train.drop(['Name','Ticket','Cabin'],axis = 1)"
      ],
      "metadata": {
        "id": "v0qyCFtEjE0h"
      },
      "execution_count": 52,
      "outputs": []
    },
    {
      "cell_type": "code",
      "source": [
        "df_train['Sex'] = labelencoder.fit_transform(df_train['Sex'])"
      ],
      "metadata": {
        "id": "QlviX377k24l"
      },
      "execution_count": 56,
      "outputs": []
    },
    {
      "cell_type": "markdown",
      "source": [
        "看是否有空值"
      ],
      "metadata": {
        "id": "BAar5u39uZIp"
      }
    },
    {
      "cell_type": "code",
      "source": [
        "df_train['Age'] = df_train['Age'].fillna(df_train['Age'].mode()[0])\n",
        "df_train['Embarked'] = df_train['Embarked'].fillna('S')\n",
        "df_train['Embarked'] = labelencoder.fit_transform(df_train['Embarked'])\n",
        "df_train = pd.get_dummies(df_train, columns = ['Embarked'])"
      ],
      "metadata": {
        "id": "z5vAp7hkubV5"
      },
      "execution_count": 167,
      "outputs": []
    },
    {
      "cell_type": "markdown",
      "source": [
        "將Age用眾數填補空值，Embarked用眾數填補空值"
      ],
      "metadata": {
        "id": "uthXizE5vYoL"
      }
    },
    {
      "cell_type": "code",
      "source": [
        "columns_X = set(df_train.columns) - {'Survived'}\n",
        "columns_y = ['Survived']\n",
        "\n",
        "train_X = df_train[columns_X]\n",
        "train_y = df_train[columns_y]\n",
        "\n",
        "from sklearn.linear_model import LogisticRegression\n",
        "from sklearn.model_selection import cross_val_score\n",
        "\n",
        "log = LogisticRegression(random_state=0, max_iter=3000)\n",
        "scores = cross_val_score(log, train_X, train_y.values.ravel(),cv=5,scoring='accuracy')\n",
        "scores"
      ],
      "metadata": {
        "colab": {
          "base_uri": "https://localhost:8080/"
        },
        "id": "ChojNb9kveFX",
        "outputId": "7b05226a-f341-41c2-a358-bd81cce7e4f4"
      },
      "execution_count": 269,
      "outputs": [
        {
          "output_type": "execute_result",
          "data": {
            "text/plain": [
              "array([0.79329609, 0.78651685, 0.78651685, 0.7752809 , 0.8258427 ])"
            ]
          },
          "metadata": {},
          "execution_count": 269
        }
      ]
    },
    {
      "cell_type": "code",
      "source": [
        "columns_X = set(df_train.columns) - {'Survived'}\n",
        "columns_y = ['Survived']\n",
        "\n",
        "train_X = df_train[columns_X]\n",
        "train_y = df_train[columns_y]\n",
        "\n",
        "test_X = df_test[columns_X]"
      ],
      "metadata": {
        "id": "LsxNAaOUhBF5"
      },
      "execution_count": 232,
      "outputs": []
    },
    {
      "cell_type": "code",
      "source": [
        "from sklearn.linear_model import LinearRegression\n",
        "linear = LinearRegression()\n",
        "model = linear.fit(train_X, train_y)\n",
        "df_test['Survived'] = np.nan\n",
        "df_test['Survived']= linear.predict(test_X)"
      ],
      "metadata": {
        "id": "8oKe5Xh0EzY-"
      },
      "execution_count": 233,
      "outputs": []
    },
    {
      "cell_type": "code",
      "source": [
        ""
      ],
      "metadata": {
        "id": "dTAMNveuZ9qQ",
        "colab": {
          "base_uri": "https://localhost:8080/",
          "height": 424
        },
        "outputId": "b2d25e55-5fef-4025-8e56-2ccf29908088"
      },
      "execution_count": 198,
      "outputs": [
        {
          "output_type": "execute_result",
          "data": {
            "text/plain": [
              "     PassengerId  Pclass  Sex   Age  SibSp  Parch      Fare  Family_Size  \\\n",
              "0            892       3    1  34.5      0      0    7.8292            1   \n",
              "1            893       3    0  47.0      1      0    7.0000            2   \n",
              "2            894       2    1  62.0      0      0    9.6875            1   \n",
              "3            895       3    1  27.0      0      0    8.6625            1   \n",
              "4            896       3    0  22.0      1      1   12.2875            3   \n",
              "..           ...     ...  ...   ...    ...    ...       ...          ...   \n",
              "413         1305       3    1  21.0      0      0    8.0500            1   \n",
              "414         1306       1    0  39.0      0      0  108.9000            1   \n",
              "415         1307       3    1  38.5      0      0    7.2500            1   \n",
              "416         1308       3    1  21.0      0      0    8.0500            1   \n",
              "417         1309       3    1  21.0      1      1   22.3583            3   \n",
              "\n",
              "     Age_class  Embarked_0  Embarked_1  Embarked_2  Survived  \n",
              "0          6.0           0           1           0  0.101683  \n",
              "1          7.0           0           0           1  0.453996  \n",
              "2          8.0           0           1           0  0.152434  \n",
              "3          5.0           0           0           1  0.118296  \n",
              "4          5.0           0           0           1  0.549297  \n",
              "..         ...         ...         ...         ...       ...  \n",
              "413        5.0           0           0           1  0.114140  \n",
              "414        6.0           1           0           0  0.998463  \n",
              "415        6.0           0           0           1  0.062117  \n",
              "416        5.0           0           0           1  0.114181  \n",
              "417        5.0           1           0           0  0.104283  \n",
              "\n",
              "[418 rows x 13 columns]"
            ],
            "text/html": [
              "\n",
              "  <div id=\"df-88503866-8e84-49d8-8193-17b532741827\">\n",
              "    <div class=\"colab-df-container\">\n",
              "      <div>\n",
              "<style scoped>\n",
              "    .dataframe tbody tr th:only-of-type {\n",
              "        vertical-align: middle;\n",
              "    }\n",
              "\n",
              "    .dataframe tbody tr th {\n",
              "        vertical-align: top;\n",
              "    }\n",
              "\n",
              "    .dataframe thead th {\n",
              "        text-align: right;\n",
              "    }\n",
              "</style>\n",
              "<table border=\"1\" class=\"dataframe\">\n",
              "  <thead>\n",
              "    <tr style=\"text-align: right;\">\n",
              "      <th></th>\n",
              "      <th>PassengerId</th>\n",
              "      <th>Pclass</th>\n",
              "      <th>Sex</th>\n",
              "      <th>Age</th>\n",
              "      <th>SibSp</th>\n",
              "      <th>Parch</th>\n",
              "      <th>Fare</th>\n",
              "      <th>Family_Size</th>\n",
              "      <th>Age_class</th>\n",
              "      <th>Embarked_0</th>\n",
              "      <th>Embarked_1</th>\n",
              "      <th>Embarked_2</th>\n",
              "      <th>Survived</th>\n",
              "    </tr>\n",
              "  </thead>\n",
              "  <tbody>\n",
              "    <tr>\n",
              "      <th>0</th>\n",
              "      <td>892</td>\n",
              "      <td>3</td>\n",
              "      <td>1</td>\n",
              "      <td>34.5</td>\n",
              "      <td>0</td>\n",
              "      <td>0</td>\n",
              "      <td>7.8292</td>\n",
              "      <td>1</td>\n",
              "      <td>6.0</td>\n",
              "      <td>0</td>\n",
              "      <td>1</td>\n",
              "      <td>0</td>\n",
              "      <td>0.101683</td>\n",
              "    </tr>\n",
              "    <tr>\n",
              "      <th>1</th>\n",
              "      <td>893</td>\n",
              "      <td>3</td>\n",
              "      <td>0</td>\n",
              "      <td>47.0</td>\n",
              "      <td>1</td>\n",
              "      <td>0</td>\n",
              "      <td>7.0000</td>\n",
              "      <td>2</td>\n",
              "      <td>7.0</td>\n",
              "      <td>0</td>\n",
              "      <td>0</td>\n",
              "      <td>1</td>\n",
              "      <td>0.453996</td>\n",
              "    </tr>\n",
              "    <tr>\n",
              "      <th>2</th>\n",
              "      <td>894</td>\n",
              "      <td>2</td>\n",
              "      <td>1</td>\n",
              "      <td>62.0</td>\n",
              "      <td>0</td>\n",
              "      <td>0</td>\n",
              "      <td>9.6875</td>\n",
              "      <td>1</td>\n",
              "      <td>8.0</td>\n",
              "      <td>0</td>\n",
              "      <td>1</td>\n",
              "      <td>0</td>\n",
              "      <td>0.152434</td>\n",
              "    </tr>\n",
              "    <tr>\n",
              "      <th>3</th>\n",
              "      <td>895</td>\n",
              "      <td>3</td>\n",
              "      <td>1</td>\n",
              "      <td>27.0</td>\n",
              "      <td>0</td>\n",
              "      <td>0</td>\n",
              "      <td>8.6625</td>\n",
              "      <td>1</td>\n",
              "      <td>5.0</td>\n",
              "      <td>0</td>\n",
              "      <td>0</td>\n",
              "      <td>1</td>\n",
              "      <td>0.118296</td>\n",
              "    </tr>\n",
              "    <tr>\n",
              "      <th>4</th>\n",
              "      <td>896</td>\n",
              "      <td>3</td>\n",
              "      <td>0</td>\n",
              "      <td>22.0</td>\n",
              "      <td>1</td>\n",
              "      <td>1</td>\n",
              "      <td>12.2875</td>\n",
              "      <td>3</td>\n",
              "      <td>5.0</td>\n",
              "      <td>0</td>\n",
              "      <td>0</td>\n",
              "      <td>1</td>\n",
              "      <td>0.549297</td>\n",
              "    </tr>\n",
              "    <tr>\n",
              "      <th>...</th>\n",
              "      <td>...</td>\n",
              "      <td>...</td>\n",
              "      <td>...</td>\n",
              "      <td>...</td>\n",
              "      <td>...</td>\n",
              "      <td>...</td>\n",
              "      <td>...</td>\n",
              "      <td>...</td>\n",
              "      <td>...</td>\n",
              "      <td>...</td>\n",
              "      <td>...</td>\n",
              "      <td>...</td>\n",
              "      <td>...</td>\n",
              "    </tr>\n",
              "    <tr>\n",
              "      <th>413</th>\n",
              "      <td>1305</td>\n",
              "      <td>3</td>\n",
              "      <td>1</td>\n",
              "      <td>21.0</td>\n",
              "      <td>0</td>\n",
              "      <td>0</td>\n",
              "      <td>8.0500</td>\n",
              "      <td>1</td>\n",
              "      <td>5.0</td>\n",
              "      <td>0</td>\n",
              "      <td>0</td>\n",
              "      <td>1</td>\n",
              "      <td>0.114140</td>\n",
              "    </tr>\n",
              "    <tr>\n",
              "      <th>414</th>\n",
              "      <td>1306</td>\n",
              "      <td>1</td>\n",
              "      <td>0</td>\n",
              "      <td>39.0</td>\n",
              "      <td>0</td>\n",
              "      <td>0</td>\n",
              "      <td>108.9000</td>\n",
              "      <td>1</td>\n",
              "      <td>6.0</td>\n",
              "      <td>1</td>\n",
              "      <td>0</td>\n",
              "      <td>0</td>\n",
              "      <td>0.998463</td>\n",
              "    </tr>\n",
              "    <tr>\n",
              "      <th>415</th>\n",
              "      <td>1307</td>\n",
              "      <td>3</td>\n",
              "      <td>1</td>\n",
              "      <td>38.5</td>\n",
              "      <td>0</td>\n",
              "      <td>0</td>\n",
              "      <td>7.2500</td>\n",
              "      <td>1</td>\n",
              "      <td>6.0</td>\n",
              "      <td>0</td>\n",
              "      <td>0</td>\n",
              "      <td>1</td>\n",
              "      <td>0.062117</td>\n",
              "    </tr>\n",
              "    <tr>\n",
              "      <th>416</th>\n",
              "      <td>1308</td>\n",
              "      <td>3</td>\n",
              "      <td>1</td>\n",
              "      <td>21.0</td>\n",
              "      <td>0</td>\n",
              "      <td>0</td>\n",
              "      <td>8.0500</td>\n",
              "      <td>1</td>\n",
              "      <td>5.0</td>\n",
              "      <td>0</td>\n",
              "      <td>0</td>\n",
              "      <td>1</td>\n",
              "      <td>0.114181</td>\n",
              "    </tr>\n",
              "    <tr>\n",
              "      <th>417</th>\n",
              "      <td>1309</td>\n",
              "      <td>3</td>\n",
              "      <td>1</td>\n",
              "      <td>21.0</td>\n",
              "      <td>1</td>\n",
              "      <td>1</td>\n",
              "      <td>22.3583</td>\n",
              "      <td>3</td>\n",
              "      <td>5.0</td>\n",
              "      <td>1</td>\n",
              "      <td>0</td>\n",
              "      <td>0</td>\n",
              "      <td>0.104283</td>\n",
              "    </tr>\n",
              "  </tbody>\n",
              "</table>\n",
              "<p>418 rows × 13 columns</p>\n",
              "</div>\n",
              "      <button class=\"colab-df-convert\" onclick=\"convertToInteractive('df-88503866-8e84-49d8-8193-17b532741827')\"\n",
              "              title=\"Convert this dataframe to an interactive table.\"\n",
              "              style=\"display:none;\">\n",
              "        \n",
              "  <svg xmlns=\"http://www.w3.org/2000/svg\" height=\"24px\"viewBox=\"0 0 24 24\"\n",
              "       width=\"24px\">\n",
              "    <path d=\"M0 0h24v24H0V0z\" fill=\"none\"/>\n",
              "    <path d=\"M18.56 5.44l.94 2.06.94-2.06 2.06-.94-2.06-.94-.94-2.06-.94 2.06-2.06.94zm-11 1L8.5 8.5l.94-2.06 2.06-.94-2.06-.94L8.5 2.5l-.94 2.06-2.06.94zm10 10l.94 2.06.94-2.06 2.06-.94-2.06-.94-.94-2.06-.94 2.06-2.06.94z\"/><path d=\"M17.41 7.96l-1.37-1.37c-.4-.4-.92-.59-1.43-.59-.52 0-1.04.2-1.43.59L10.3 9.45l-7.72 7.72c-.78.78-.78 2.05 0 2.83L4 21.41c.39.39.9.59 1.41.59.51 0 1.02-.2 1.41-.59l7.78-7.78 2.81-2.81c.8-.78.8-2.07 0-2.86zM5.41 20L4 18.59l7.72-7.72 1.47 1.35L5.41 20z\"/>\n",
              "  </svg>\n",
              "      </button>\n",
              "      \n",
              "  <style>\n",
              "    .colab-df-container {\n",
              "      display:flex;\n",
              "      flex-wrap:wrap;\n",
              "      gap: 12px;\n",
              "    }\n",
              "\n",
              "    .colab-df-convert {\n",
              "      background-color: #E8F0FE;\n",
              "      border: none;\n",
              "      border-radius: 50%;\n",
              "      cursor: pointer;\n",
              "      display: none;\n",
              "      fill: #1967D2;\n",
              "      height: 32px;\n",
              "      padding: 0 0 0 0;\n",
              "      width: 32px;\n",
              "    }\n",
              "\n",
              "    .colab-df-convert:hover {\n",
              "      background-color: #E2EBFA;\n",
              "      box-shadow: 0px 1px 2px rgba(60, 64, 67, 0.3), 0px 1px 3px 1px rgba(60, 64, 67, 0.15);\n",
              "      fill: #174EA6;\n",
              "    }\n",
              "\n",
              "    [theme=dark] .colab-df-convert {\n",
              "      background-color: #3B4455;\n",
              "      fill: #D2E3FC;\n",
              "    }\n",
              "\n",
              "    [theme=dark] .colab-df-convert:hover {\n",
              "      background-color: #434B5C;\n",
              "      box-shadow: 0px 1px 3px 1px rgba(0, 0, 0, 0.15);\n",
              "      filter: drop-shadow(0px 1px 2px rgba(0, 0, 0, 0.3));\n",
              "      fill: #FFFFFF;\n",
              "    }\n",
              "  </style>\n",
              "\n",
              "      <script>\n",
              "        const buttonEl =\n",
              "          document.querySelector('#df-88503866-8e84-49d8-8193-17b532741827 button.colab-df-convert');\n",
              "        buttonEl.style.display =\n",
              "          google.colab.kernel.accessAllowed ? 'block' : 'none';\n",
              "\n",
              "        async function convertToInteractive(key) {\n",
              "          const element = document.querySelector('#df-88503866-8e84-49d8-8193-17b532741827');\n",
              "          const dataTable =\n",
              "            await google.colab.kernel.invokeFunction('convertToInteractive',\n",
              "                                                     [key], {});\n",
              "          if (!dataTable) return;\n",
              "\n",
              "          const docLinkHtml = 'Like what you see? Visit the ' +\n",
              "            '<a target=\"_blank\" href=https://colab.research.google.com/notebooks/data_table.ipynb>data table notebook</a>'\n",
              "            + ' to learn more about interactive tables.';\n",
              "          element.innerHTML = '';\n",
              "          dataTable['output_type'] = 'display_data';\n",
              "          await google.colab.output.renderOutput(dataTable, element);\n",
              "          const docLink = document.createElement('div');\n",
              "          docLink.innerHTML = docLinkHtml;\n",
              "          element.appendChild(docLink);\n",
              "        }\n",
              "      </script>\n",
              "    </div>\n",
              "  </div>\n",
              "  "
            ]
          },
          "metadata": {},
          "execution_count": 198
        }
      ]
    },
    {
      "cell_type": "code",
      "source": [
        ""
      ],
      "metadata": {
        "id": "uG7JFlIdkMgg"
      },
      "execution_count": null,
      "outputs": []
    }
  ]
}